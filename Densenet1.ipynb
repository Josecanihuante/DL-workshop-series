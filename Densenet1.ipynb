{
  "cells": [
    {
      "cell_type": "markdown",
      "metadata": {
        "id": "view-in-github",
        "colab_type": "text"
      },
      "source": [
        "<a href=\"https://colab.research.google.com/github/Josecanihuante/DL-workshop-series/blob/master/Densenet1.ipynb\" target=\"_parent\"><img src=\"https://colab.research.google.com/assets/colab-badge.svg\" alt=\"Open In Colab\"/></a>"
      ]
    },
    {
      "cell_type": "code",
      "execution_count": null,
      "metadata": {
        "id": "_6aDV7y3u3pq"
      },
      "outputs": [],
      "source": [
        "import numpy as np \n",
        "import pandas as pd\n",
        "import os\n",
        "from glob import glob\n",
        "import matplotlib.pyplot as plt\n",
        "from keras_preprocessing.image import ImageDataGenerator\n",
        "from tensorflow.keras.applications import Xception\n",
        "from tensorflow.keras.layers import GlobalAveragePooling2D\n",
        "import tensorflow as tf\n",
        "from tensorflow.keras.callbacks import ModelCheckpoint, EarlyStopping, ReduceLROnPlateau\n",
        "from keras.models import Model\n",
        "from keras.models import load_model\n",
        "import keras.backend as K\n",
        "import keras\n",
        "from keras.models import Sequential\n",
        "from keras.layers import Dense, Activation, Dropout, Flatten,Conv2D, MaxPooling2D\n",
        "from tensorflow.keras.layers import BatchNormalization\n",
        "import torch"
      ]
    },
    {
      "cell_type": "code",
      "execution_count": null,
      "metadata": {
        "id": "K6OAsw8rvH5K"
      },
      "outputs": [],
      "source": [
        "n_class = 5\n",
        "\n",
        "# path to kaggle dataset\n",
        "root_path = \"/content/drive/MyDrive/ArtrosisdeRodilla/KneeXrayData/KneeXrayData/ClsKLData/kneeKL224/\"\n",
        "\n",
        "# list of folders\n",
        "folder_list = os.listdir(root_path)\n",
        "image_path_list = []\n",
        "label_list = []\n",
        "\n",
        "# for each folder, get the image path and labels\n",
        "for folder in folder_list:\n",
        "    for label in range(n_class):\n",
        "        \n",
        "        # get all the images path inside the current folder\n",
        "        image_list = os.listdir(f\"{root_path}{folder}/{label}\")\n",
        "        # add to the image path list\n",
        "        image_path_list += [ f\"{root_path}{folder}/{label}/\"+ path for path in image_list]\n",
        "        \n",
        "        # add labels to the label list\n",
        "        label_list += [label] * len(image_list)\n",
        "\n",
        "# convert to dataframe\n",
        "df_train_kaggle = pd.DataFrame({\"filepath\" : image_path_list, \"label\": label_list})"
      ]
    },
    {
      "cell_type": "code",
      "execution_count": null,
      "metadata": {
        "id": "0SAw0QrUvuyC"
      },
      "outputs": [],
      "source": [
        "# train data generator object\n",
        "train_aug = ImageDataGenerator(rescale=1./255)\n",
        "\n",
        "# validation data generator object\n",
        "valid_aug = ImageDataGenerator(rescale=1./255)"
      ]
    },
    {
      "cell_type": "code",
      "execution_count": null,
      "metadata": {
        "colab": {
          "base_uri": "https://localhost:8080/"
        },
        "id": "sGii1i7Xvvzb",
        "outputId": "5fa69941-463c-4416-b049-901fbf0592bd"
      },
      "outputs": [
        {
          "output_type": "stream",
          "name": "stdout",
          "text": [
            "Found 9867 validated image filenames.\n"
          ]
        }
      ],
      "source": [
        "train_generator = train_aug.flow_from_dataframe(\n",
        "dataframe=df_train_kaggle,\n",
        "directory=None,\n",
        "x_col=\"filepath\",\n",
        "y_col=\"label\",\n",
        "batch_size=32,\n",
        "seed=42,\n",
        "shuffle=True,\n",
        "class_mode=\"raw\",\n",
        "target_size=(224,224))"
      ]
    },
    {
      "cell_type": "code",
      "execution_count": null,
      "metadata": {
        "id": "2fAqubdj0WaL"
      },
      "outputs": [],
      "source": [
        "!unzip -q -o /content/KneeXray.zip -d /content/"
      ]
    },
    {
      "cell_type": "code",
      "execution_count": null,
      "metadata": {
        "id": "Wb5ou6sE0Y75"
      },
      "outputs": [],
      "source": [
        "compi_root_path= \"/content/KneeXray/\"\n",
        "df_val_compi = pd.read_csv(compi_root_path + \"Train.csv\")\n",
        "\n",
        "# add absolute path to the image names\n",
        "df_val_compi[\"filename\"] = df_val_compi.filename.apply(lambda x: compi_root_path+\"train/\" + x)\n",
        "df_val_compi.head()"
      ]
    },
    {
      "cell_type": "code",
      "execution_count": 19,
      "metadata": {
        "colab": {
          "base_uri": "https://localhost:8080/"
        },
        "id": "m2W3yh800dtR",
        "outputId": "3132874c-a9f5-453c-8c04-7cd08065cd16"
      },
      "outputs": [
        {
          "output_type": "stream",
          "name": "stdout",
          "text": [
            "Found 7828 validated image filenames.\n"
          ]
        }
      ],
      "source": [
        "# create validation generator\n",
        "valid_generator = valid_aug.flow_from_dataframe( \n",
        "dataframe= df_val_compi,\n",
        "x_col= \"filename\",\n",
        "y_col= \"label\",\n",
        "batch_size= 32,\n",
        "seed= 42,\n",
        "shuffle= True,\n",
        "class_mode= \"raw\",\n",
        "target_size= (224,224))"
      ]
    },
    {
      "cell_type": "code",
      "execution_count": null,
      "metadata": {
        "id": "xSTjOKee0euh"
      },
      "outputs": [],
      "source": [
        "import tensorflow.keras as K\n",
        "\n",
        "initializer = K.initializers.he_normal(seed=32)\n",
        "input_shape_densenet = (224, 224, 3)\n",
        "\n",
        "densenet_model = K.applications.DenseNet169(\n",
        "    include_top=False,\n",
        "    weights=\"imagenet\",\n",
        "    input_tensor=None,\n",
        "    input_shape=input_shape_densenet,\n",
        "    pooling=None\n",
        ")\n",
        "\n",
        "\n",
        "densenet_model.trainable = True\n",
        "\n",
        "for layer in densenet_model.layers:\n",
        "  if 'conv5' in layer.name:\n",
        "    layer.trainable = True\n",
        "  else:\n",
        "    layer.trainable = False\n",
        "\n",
        "densenet_model.summary()\n",
        "\n",
        "input = K.Input(shape=(224, 224, 3))\n",
        "\n",
        "layer = densenet_model(inputs=input)\n",
        "\n",
        "layer = K.layers.Flatten()(layer)\n",
        "\n",
        "layer = K.layers.BatchNormalization()(layer)\n",
        "\n",
        "layer = K.layers.Dense(units=256,\n",
        "                        activation='relu',\n",
        "                        kernel_initializer=initializer\n",
        "                        )(layer)\n",
        "\n",
        "layer = K.layers.Dropout(0.4)(layer)\n",
        "\n",
        "layer = K.layers.BatchNormalization()(layer)\n",
        "\n",
        "layer = K.layers.Dense(units=128,\n",
        "                       activation='relu',\n",
        "                       kernel_initializer=initializer\n",
        "                       )(layer)\n",
        "\n",
        "layer = K.layers.Dropout(0.4)(layer)\n",
        "\n",
        "layer = K.layers.Dense(units=5,\n",
        "                       activation='softmax',\n",
        "                       kernel_initializer=initializer\n",
        "                       )(layer)\n",
        "\n",
        "model = K.models.Model(inputs=input, outputs=layer)\n",
        "\n",
        "model.summary()\n",
        "\n",
        "model.compile(loss=tf.keras.losses.sparse_categorical_crossentropy,\n",
        "            optimizer=tf.keras.optimizers.Adam(learning_rate=0.00001,decay=0.0001),\n",
        "            metrics=['accuracy'])\n",
        "\n",
        "\n"
      ]
    },
    {
      "cell_type": "code",
      "source": [
        "checkpoint_path = '/content/'\n",
        "\n",
        "my_callbacks = tf.keras.callbacks.ModelCheckpoint(\n",
        "    '/content',\n",
        "    monitor=\"val_loss\",\n",
        "    verbose=0,\n",
        "    save_best_only=True,\n",
        "    save_weights_only=False,\n",
        "    mode=\"auto\",\n",
        "    save_freq=\"epoch\",\n",
        "    options=None,\n",
        "    initial_value_threshold=None,\n",
        "    )"
      ],
      "metadata": {
        "id": "styJJH7mbYQt"
      },
      "execution_count": 15,
      "outputs": []
    },
    {
      "cell_type": "code",
      "source": [
        "from sklearn.utils import class_weight\n",
        "class_weights = class_weight.compute_class_weight('balanced',\n",
        "                                                 classes= np.unique(df_train_kaggle.label.values),\n",
        "                                                 y= df_train_kaggle.label.values)\n",
        "class_weights = dict(enumerate(class_weights))"
      ],
      "metadata": {
        "id": "hznCJXBNYKQi"
      },
      "execution_count": 16,
      "outputs": []
    },
    {
      "cell_type": "code",
      "execution_count": 20,
      "metadata": {
        "id": "a8KRg7ZB44Qj",
        "colab": {
          "base_uri": "https://localhost:8080/"
        },
        "outputId": "21559994-07be-46ea-dcdd-a83483720084"
      },
      "outputs": [
        {
          "output_type": "stream",
          "name": "stdout",
          "text": [
            "Epoch 1/8\n",
            "309/309 [==============================] - ETA: 0s - loss: 2.1524 - accuracy: 0.2988 INFO:tensorflow:Assets written to: /content/assets\n",
            "309/309 [==============================] - 7770s 25s/step - loss: 2.1524 - accuracy: 0.2988 - val_loss: 1.1341 - val_accuracy: 0.5584\n",
            "Epoch 2/8\n",
            "309/309 [==============================] - ETA: 0s - loss: 1.6560 - accuracy: 0.4273INFO:tensorflow:Assets written to: /content/assets\n",
            "309/309 [==============================] - 168s 544ms/step - loss: 1.6560 - accuracy: 0.4273 - val_loss: 0.8652 - val_accuracy: 0.6712\n",
            "Epoch 3/8\n",
            "309/309 [==============================] - ETA: 0s - loss: 1.4119 - accuracy: 0.4913INFO:tensorflow:Assets written to: /content/assets\n",
            "309/309 [==============================] - 168s 545ms/step - loss: 1.4119 - accuracy: 0.4913 - val_loss: 0.6942 - val_accuracy: 0.7487\n",
            "Epoch 4/8\n",
            "309/309 [==============================] - ETA: 0s - loss: 1.2362 - accuracy: 0.5509INFO:tensorflow:Assets written to: /content/assets\n",
            "309/309 [==============================] - 168s 544ms/step - loss: 1.2362 - accuracy: 0.5509 - val_loss: 0.5766 - val_accuracy: 0.8016\n",
            "Epoch 5/8\n",
            "309/309 [==============================] - ETA: 0s - loss: 1.0933 - accuracy: 0.5912INFO:tensorflow:Assets written to: /content/assets\n",
            "309/309 [==============================] - 168s 546ms/step - loss: 1.0933 - accuracy: 0.5912 - val_loss: 0.4843 - val_accuracy: 0.8522\n",
            "Epoch 6/8\n",
            "309/309 [==============================] - ETA: 0s - loss: 0.9653 - accuracy: 0.6383INFO:tensorflow:Assets written to: /content/assets\n",
            "309/309 [==============================] - 168s 545ms/step - loss: 0.9653 - accuracy: 0.6383 - val_loss: 0.4023 - val_accuracy: 0.8885\n",
            "Epoch 7/8\n",
            "309/309 [==============================] - ETA: 0s - loss: 0.8576 - accuracy: 0.6748INFO:tensorflow:Assets written to: /content/assets\n",
            "309/309 [==============================] - 168s 545ms/step - loss: 0.8576 - accuracy: 0.6748 - val_loss: 0.3427 - val_accuracy: 0.9080\n",
            "Epoch 8/8\n",
            "309/309 [==============================] - ETA: 0s - loss: 0.7853 - accuracy: 0.7011INFO:tensorflow:Assets written to: /content/assets\n",
            "309/309 [==============================] - 169s 547ms/step - loss: 0.7853 - accuracy: 0.7011 - val_loss: 0.2851 - val_accuracy: 0.9387\n"
          ]
        },
        {
          "output_type": "execute_result",
          "data": {
            "text/plain": [
              "<tensorflow.python.training.tracking.util.CheckpointLoadStatus at 0x7f83f43390d0>"
            ]
          },
          "metadata": {},
          "execution_count": 20
        }
      ],
      "source": [
        "history = model.fit(train_generator, epochs=8, validation_data=(valid_generator), callbacks=[my_callbacks], batch_size=32, verbose=1, use_multiprocessing = True,\n",
        "        workers = -1)\n",
        "\n",
        "model.load_weights(checkpoint_path)"
      ]
    },
    {
      "cell_type": "code",
      "execution_count": 21,
      "metadata": {
        "id": "6i3-QR55SvrH"
      },
      "outputs": [],
      "source": [
        "from sklearn.model_selection import train_test_split\n",
        "X_train, X_test = train_test_split(df_val_compi,\n",
        "                                   test_size=0.1,\n",
        "                                   random_state=42,\n",
        "                                   stratify= df_val_compi.label)"
      ]
    },
    {
      "cell_type": "code",
      "execution_count": 24,
      "metadata": {
        "colab": {
          "base_uri": "https://localhost:8080/"
        },
        "id": "5w7vXpHZUboQ",
        "outputId": "325479d8-4d17-43bd-b311-6f4812d35691"
      },
      "outputs": [
        {
          "output_type": "stream",
          "name": "stdout",
          "text": [
            "Found 7045 validated image filenames.\n"
          ]
        }
      ],
      "source": [
        "train_generator = train_aug.flow_from_dataframe(\n",
        "dataframe = X_train,\n",
        "x_col=\"filename\",\n",
        "y_col=\"label\",\n",
        "batch_size=32,\n",
        "seed=42,\n",
        "shuffle=True,\n",
        "class_mode=\"raw\",\n",
        "target_size=(224,224))"
      ]
    },
    {
      "cell_type": "code",
      "execution_count": 25,
      "metadata": {
        "colab": {
          "base_uri": "https://localhost:8080/"
        },
        "id": "L1h5iUZIUeZh",
        "outputId": "227ed300-3d7c-4df8-a4d5-9cd5b58fe618"
      },
      "outputs": [
        {
          "output_type": "stream",
          "name": "stdout",
          "text": [
            "Found 783 validated image filenames.\n"
          ]
        }
      ],
      "source": [
        "valid_generator = valid_aug.flow_from_dataframe( \n",
        "dataframe=X_test,\n",
        "x_col=\"filename\",\n",
        "y_col=\"label\",\n",
        "batch_size=32,\n",
        "seed=42,\n",
        "shuffle=True,\n",
        "class_mode=\"raw\",\n",
        "target_size=(224,224))"
      ]
    },
    {
      "cell_type": "code",
      "execution_count": 26,
      "metadata": {
        "id": "Kc_3qHJjUgnC"
      },
      "outputs": [],
      "source": [
        "STEP_SIZE_TRAIN = train_generator.n//train_generator.batch_size\n",
        "STEP_SIZE_VALID =valid_generator.n//valid_generator.batch_size"
      ]
    },
    {
      "cell_type": "code",
      "execution_count": 27,
      "metadata": {
        "id": "233to3IwUhqo",
        "colab": {
          "base_uri": "https://localhost:8080/"
        },
        "outputId": "1559a4aa-72ab-47c2-ba96-71067bc399de"
      },
      "outputs": [
        {
          "output_type": "stream",
          "name": "stdout",
          "text": [
            "Epoch 1/10\n",
            "220/220 [==============================] - 39s 179ms/step - loss: 0.7459 - accuracy: 0.7170 - val_loss: 0.2890 - val_accuracy: 0.9284\n",
            "Epoch 2/10\n",
            "220/220 [==============================] - 38s 171ms/step - loss: 0.6763 - accuracy: 0.7425 - val_loss: 0.3010 - val_accuracy: 0.9180\n",
            "Epoch 3/10\n",
            "220/220 [==============================] - 37s 170ms/step - loss: 0.6027 - accuracy: 0.7764 - val_loss: 0.3276 - val_accuracy: 0.9141\n",
            "Epoch 4/10\n",
            "220/220 [==============================] - 38s 170ms/step - loss: 0.5578 - accuracy: 0.7948 - val_loss: 0.3334 - val_accuracy: 0.9102\n",
            "Epoch 5/10\n",
            "220/220 [==============================] - 37s 170ms/step - loss: 0.5165 - accuracy: 0.8084 - val_loss: 0.3340 - val_accuracy: 0.9089\n",
            "Epoch 6/10\n",
            "220/220 [==============================] - 38s 171ms/step - loss: 0.4534 - accuracy: 0.8326 - val_loss: 0.3305 - val_accuracy: 0.9049\n",
            "Epoch 7/10\n",
            "220/220 [==============================] - 38s 171ms/step - loss: 0.4295 - accuracy: 0.8451 - val_loss: 0.3466 - val_accuracy: 0.8893\n",
            "Epoch 8/10\n",
            "220/220 [==============================] - 38s 170ms/step - loss: 0.3804 - accuracy: 0.8630 - val_loss: 0.3488 - val_accuracy: 0.8958\n",
            "Epoch 9/10\n",
            "220/220 [==============================] - 38s 171ms/step - loss: 0.3534 - accuracy: 0.8708 - val_loss: 0.3507 - val_accuracy: 0.8828\n",
            "Epoch 10/10\n",
            "220/220 [==============================] - 38s 171ms/step - loss: 0.3240 - accuracy: 0.8878 - val_loss: 0.3565 - val_accuracy: 0.8711\n"
          ]
        },
        {
          "output_type": "execute_result",
          "data": {
            "text/plain": [
              "<keras.callbacks.History at 0x7f83f3725210>"
            ]
          },
          "metadata": {},
          "execution_count": 27
        }
      ],
      "source": [
        "model.fit(\n",
        "        train_generator,\n",
        "        steps_per_epoch=STEP_SIZE_TRAIN,\n",
        "        epochs=10,\n",
        "        validation_data=valid_generator,\n",
        "        validation_steps=STEP_SIZE_VALID, callbacks=[my_callbacks])"
      ]
    },
    {
      "cell_type": "code",
      "source": [
        "model.load_weights(checkpoint_path)"
      ],
      "metadata": {
        "id": "sm6BLf4ebV0G",
        "outputId": "7babbe3f-4930-4142-dc78-6bbc593d41ce",
        "colab": {
          "base_uri": "https://localhost:8080/"
        }
      },
      "execution_count": 28,
      "outputs": [
        {
          "output_type": "execute_result",
          "data": {
            "text/plain": [
              "<tensorflow.python.training.tracking.util.CheckpointLoadStatus at 0x7f83f0e38a50>"
            ]
          },
          "metadata": {},
          "execution_count": 28
        }
      ]
    },
    {
      "cell_type": "code",
      "source": [
        "from sklearn.metrics import precision_recall_curve\n",
        "target_shape = 224\n",
        "BATCH_SIZE = 1\n",
        "\n",
        "# test generator\n",
        "compi_gen = valid_aug.flow_from_dataframe(dataframe= X_test,\n",
        "                            x_col= \"filename\",\n",
        "                            class_mode=None,\n",
        "                            target_size= (target_shape, target_shape),\n",
        "                            shuffle= False,\n",
        "                            batch_size= BATCH_SIZE\n",
        "                            )"
      ],
      "metadata": {
        "id": "4cmlY2JCzr8Q",
        "colab": {
          "base_uri": "https://localhost:8080/"
        },
        "outputId": "3f6a5749-327f-476b-a225-014d76ed7fdd"
      },
      "execution_count": 29,
      "outputs": [
        {
          "output_type": "stream",
          "name": "stdout",
          "text": [
            "Found 783 validated image filenames.\n"
          ]
        }
      ]
    },
    {
      "cell_type": "code",
      "source": [
        "predicition_compi = model.predict(compi_gen, steps= compi_gen.n/ BATCH_SIZE, verbose= 1)"
      ],
      "metadata": {
        "id": "1immC_Ilzt9n",
        "colab": {
          "base_uri": "https://localhost:8080/"
        },
        "outputId": "6d8d3a7c-6e6a-4e03-d405-f2767002e038"
      },
      "execution_count": 30,
      "outputs": [
        {
          "output_type": "stream",
          "name": "stdout",
          "text": [
            "783/783 [==============================] - 20s 20ms/step\n"
          ]
        }
      ]
    },
    {
      "cell_type": "code",
      "source": [
        "from sklearn.metrics import confusion_matrix, ConfusionMatrixDisplay\n",
        "class_prediction_compi =  np.argmax(predicition_compi, axis= 1)\n",
        "cm = confusion_matrix(X_test.label, class_prediction_compi, labels=[0, 1, 2, 3, 4])\n",
        "disp = ConfusionMatrixDisplay(confusion_matrix=cm,\n",
        "                              display_labels=[0, 1, 2, 3, 4])\n",
        "disp.plot()"
      ],
      "metadata": {
        "id": "MbwtjsDkzwCH",
        "colab": {
          "base_uri": "https://localhost:8080/",
          "height": 300
        },
        "outputId": "c713964d-1c0e-4c87-9c4e-acda8f0a9364"
      },
      "execution_count": 31,
      "outputs": [
        {
          "output_type": "execute_result",
          "data": {
            "text/plain": [
              "<sklearn.metrics._plot.confusion_matrix.ConfusionMatrixDisplay at 0x7f84d83d4350>"
            ]
          },
          "metadata": {},
          "execution_count": 31
        },
        {
          "output_type": "display_data",
          "data": {
            "text/plain": [
              "<Figure size 432x288 with 2 Axes>"
            ],
            "image/png": "[encoded data removed]"
          },
          "metadata": {
            "needs_background": "light"
          }
        }
      ]
    },
    {
      "cell_type": "code",
      "source": [
        "model.load_weights(checkpoint_path)\n"
      ],
      "metadata": {
        "id": "ipQtO5wnqp26",
        "outputId": "b6cb30b2-7b47-427c-f552-3183d0d3e51e",
        "colab": {
          "base_uri": "https://localhost:8080/"
        }
      },
      "execution_count": null,
      "outputs": [
        {
          "output_type": "execute_result",
          "data": {
            "text/plain": [
              "<tensorflow.python.training.tracking.util.CheckpointLoadStatus at 0x7f49f27f9850>"
            ]
          },
          "metadata": {},
          "execution_count": 51
        }
      ]
    },
    {
      "cell_type": "code",
      "source": [
        "import cv2"
      ],
      "metadata": {
        "id": "VNhkv4uG2nrB"
      },
      "execution_count": null,
      "outputs": []
    },
    {
      "cell_type": "code",
      "source": [
        "single_test = valid_aug.flow_from_directory('/content/KneeXray/Test.csv.iloc[384]',\n",
        "                                            target_size = (224, 224),\n",
        "                                            batch_size = 1,\n",
        "                                            class_mode = 'categorical') "
      ],
      "metadata": {
        "id": "uC77Ijvsivzx",
        "outputId": "325aded5-8775-47d6-9cae-6ea1f995517f",
        "colab": {
          "base_uri": "https://localhost:8080/",
          "height": 380
        }
      },
      "execution_count": 41,
      "outputs": [
        {
          "output_type": "error",
          "ename": "FileNotFoundError",
          "evalue": "ignored",
          "traceback": [
            "\u001b[0;31m---------------------------------------------------------------------------\u001b[0m",
            "\u001b[0;31mFileNotFoundError\u001b[0m                         Traceback (most recent call last)",
            "\u001b[0;32m<ipython-input-41-47414bc4f68e>\u001b[0m in \u001b[0;36m<module>\u001b[0;34m()\u001b[0m\n\u001b[1;32m      2\u001b[0m                                             \u001b[0mtarget_size\u001b[0m \u001b[0;34m=\u001b[0m \u001b[0;34m(\u001b[0m\u001b[0;36m224\u001b[0m\u001b[0;34m,\u001b[0m \u001b[0;36m224\u001b[0m\u001b[0;34m)\u001b[0m\u001b[0;34m,\u001b[0m\u001b[0;34m\u001b[0m\u001b[0;34m\u001b[0m\u001b[0m\n\u001b[1;32m      3\u001b[0m                                             \u001b[0mbatch_size\u001b[0m \u001b[0;34m=\u001b[0m \u001b[0;36m1\u001b[0m\u001b[0;34m,\u001b[0m\u001b[0;34m\u001b[0m\u001b[0;34m\u001b[0m\u001b[0m\n\u001b[0;32m----> 4\u001b[0;31m                                             class_mode = 'categorical') \n\u001b[0m",
            "\u001b[0;32m/usr/local/lib/python3.7/dist-packages/keras_preprocessing/image/image_data_generator.py\u001b[0m in \u001b[0;36mflow_from_directory\u001b[0;34m(self, directory, target_size, color_mode, classes, class_mode, batch_size, shuffle, seed, save_to_dir, save_prefix, save_format, follow_links, subset, interpolation)\u001b[0m\n\u001b[1;32m    541\u001b[0m             \u001b[0msubset\u001b[0m\u001b[0;34m=\u001b[0m\u001b[0msubset\u001b[0m\u001b[0;34m,\u001b[0m\u001b[0;34m\u001b[0m\u001b[0;34m\u001b[0m\u001b[0m\n\u001b[1;32m    542\u001b[0m             \u001b[0minterpolation\u001b[0m\u001b[0;34m=\u001b[0m\u001b[0minterpolation\u001b[0m\u001b[0;34m,\u001b[0m\u001b[0;34m\u001b[0m\u001b[0;34m\u001b[0m\u001b[0m\n\u001b[0;32m--> 543\u001b[0;31m             \u001b[0mdtype\u001b[0m\u001b[0;34m=\u001b[0m\u001b[0mself\u001b[0m\u001b[0;34m.\u001b[0m\u001b[0mdtype\u001b[0m\u001b[0;34m\u001b[0m\u001b[0;34m\u001b[0m\u001b[0m\n\u001b[0m\u001b[1;32m    544\u001b[0m         )\n\u001b[1;32m    545\u001b[0m \u001b[0;34m\u001b[0m\u001b[0m\n",
            "\u001b[0;32m/usr/local/lib/python3.7/dist-packages/keras_preprocessing/image/directory_iterator.py\u001b[0m in \u001b[0;36m__init__\u001b[0;34m(self, directory, image_data_generator, target_size, color_mode, classes, class_mode, batch_size, shuffle, seed, data_format, save_to_dir, save_prefix, save_format, follow_links, subset, interpolation, dtype)\u001b[0m\n\u001b[1;32m    113\u001b[0m         \u001b[0;32mif\u001b[0m \u001b[0;32mnot\u001b[0m \u001b[0mclasses\u001b[0m\u001b[0;34m:\u001b[0m\u001b[0;34m\u001b[0m\u001b[0;34m\u001b[0m\u001b[0m\n\u001b[1;32m    114\u001b[0m             \u001b[0mclasses\u001b[0m \u001b[0;34m=\u001b[0m \u001b[0;34m[\u001b[0m\u001b[0;34m]\u001b[0m\u001b[0;34m\u001b[0m\u001b[0;34m\u001b[0m\u001b[0m\n\u001b[0;32m--> 115\u001b[0;31m             \u001b[0;32mfor\u001b[0m \u001b[0msubdir\u001b[0m \u001b[0;32min\u001b[0m \u001b[0msorted\u001b[0m\u001b[0;34m(\u001b[0m\u001b[0mos\u001b[0m\u001b[0;34m.\u001b[0m\u001b[0mlistdir\u001b[0m\u001b[0;34m(\u001b[0m\u001b[0mdirectory\u001b[0m\u001b[0;34m)\u001b[0m\u001b[0;34m)\u001b[0m\u001b[0;34m:\u001b[0m\u001b[0;34m\u001b[0m\u001b[0;34m\u001b[0m\u001b[0m\n\u001b[0m\u001b[1;32m    116\u001b[0m                 \u001b[0;32mif\u001b[0m \u001b[0mos\u001b[0m\u001b[0;34m.\u001b[0m\u001b[0mpath\u001b[0m\u001b[0;34m.\u001b[0m\u001b[0misdir\u001b[0m\u001b[0;34m(\u001b[0m\u001b[0mos\u001b[0m\u001b[0;34m.\u001b[0m\u001b[0mpath\u001b[0m\u001b[0;34m.\u001b[0m\u001b[0mjoin\u001b[0m\u001b[0;34m(\u001b[0m\u001b[0mdirectory\u001b[0m\u001b[0;34m,\u001b[0m \u001b[0msubdir\u001b[0m\u001b[0;34m)\u001b[0m\u001b[0;34m)\u001b[0m\u001b[0;34m:\u001b[0m\u001b[0;34m\u001b[0m\u001b[0;34m\u001b[0m\u001b[0m\n\u001b[1;32m    117\u001b[0m                     \u001b[0mclasses\u001b[0m\u001b[0;34m.\u001b[0m\u001b[0mappend\u001b[0m\u001b[0;34m(\u001b[0m\u001b[0msubdir\u001b[0m\u001b[0;34m)\u001b[0m\u001b[0;34m\u001b[0m\u001b[0;34m\u001b[0m\u001b[0m\n",
            "\u001b[0;31mFileNotFoundError\u001b[0m: [Errno 2] No such file or directory: '/content/KneeXray/Test.csv.iloc[384]'"
          ]
        }
      ]
    },
    {
      "cell_type": "code",
      "source": [
        "X_test.iloc[23]"
      ],
      "metadata": {
        "id": "c_85cuap0cgF",
        "outputId": "d83b14b3-5417-43fd-b06f-9570e35ce740",
        "colab": {
          "base_uri": "https://localhost:8080/"
        }
      },
      "execution_count": 39,
      "outputs": [
        {
          "output_type": "execute_result",
          "data": {
            "text/plain": [
              "filename    /content/KneeXray/train/Image_4157.jpg\n",
              "label                                            0\n",
              "Name: 4156, dtype: object"
            ]
          },
          "metadata": {},
          "execution_count": 39
        }
      ]
    }
  ],
  "metadata": {
    "accelerator": "GPU",
    "colab": {
      "collapsed_sections": [],
      "machine_shape": "hm",
      "name": "Densenet1.ipynb",
      "provenance": [],
      "mount_file_id": "1Yg_pF5rUnd3k8Vzv08XU2VKVl-sQUGSg",
      "authorship_tag": "ABX9TyO7JrdsBw/Gd2lel9IUarzu",
      "include_colab_link": true
    },
    "kernelspec": {
      "display_name": "Python 3",
      "name": "python3"
    },
    "language_info": {
      "name": "python"
    }
  },
  "nbformat": 4,
  "nbformat_minor": 0
}